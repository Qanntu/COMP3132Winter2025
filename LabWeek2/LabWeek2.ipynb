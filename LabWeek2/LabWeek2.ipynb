{
  "cells": [
    {
      "cell_type": "markdown",
      "metadata": {
        "id": "0mAxgWloI7CK"
      },
      "source": [
        "# Logistic Regression as a Single Neuron Model"
      ]
    },
    {
      "cell_type": "markdown",
      "metadata": {
        "id": "16LGF3dq4mYD"
      },
      "source": [
        "## Imports"
      ]
    },
    {
      "cell_type": "code",
      "execution_count": 1,
      "metadata": {
        "id": "_r0MBq9GzGlj"
      },
      "outputs": [],
      "source": [
        "import numpy as np\n",
        "import h5py\n",
        "import requests\n",
        "import os\n",
        "import matplotlib.pyplot as plt"
      ]
    },
    {
      "cell_type": "markdown",
      "metadata": {
        "id": "UNOHCcMAWBa4"
      },
      "source": [
        "## Helper Functions (Just run this cell - no need to go through the code in helper functions)"
      ]
    },
    {
      "cell_type": "code",
      "execution_count": 2,
      "metadata": {
        "id": "HAgV4SZdzF0h"
      },
      "outputs": [],
      "source": [
        "def download_file(url, local_filename):\n",
        "    \"\"\"\n",
        "    Downloads a file from a URL and saves it locally.\n",
        "    \"\"\"\n",
        "    if not os.path.exists(local_filename):\n",
        "        print(f\"Downloading {local_filename}...\")\n",
        "        response = requests.get(url)\n",
        "        if response.status_code == 200:\n",
        "            with open(local_filename, 'wb') as f:\n",
        "                f.write(response.content)\n",
        "            print(f\"File downloaded: {local_filename}\")\n",
        "        else:\n",
        "            raise Exception(f\"Failed to download file from {url}. Status code: {response.status_code}\")\n",
        "    else:\n",
        "        print(f\"File already exists: {local_filename}\")\n",
        "\n",
        "def load_dataset():\n",
        "    # URLs of the .h5 files\n",
        "    train_url = 'https://github.com/PyDataGBC/PyML2025/raw/refs/heads/main/LabWeek2/dataset/train_catvnoncat.h5'\n",
        "    test_url = 'https://github.com/PyDataGBC/PyML2025/raw/refs/heads/main/LabWeek2/dataset/test_catvnoncat.h5'\n",
        "\n",
        "    # Local file paths\n",
        "    train_file = 'train_catvnoncat.h5'\n",
        "    test_file = 'test_catvnoncat.h5'\n",
        "\n",
        "    # Download the files if not already present\n",
        "    download_file(train_url, train_file)\n",
        "    download_file(test_url, test_file)\n",
        "\n",
        "    # Open the files using h5py\n",
        "    train_dataset = h5py.File(train_file, \"r\")\n",
        "    train_set_x_orig = np.array(train_dataset[\"train_set_x\"][:])  # Train set features\n",
        "    train_set_y_orig = np.array(train_dataset[\"train_set_y\"][:])  # Train set labels\n",
        "\n",
        "    test_dataset = h5py.File(test_file, \"r\")\n",
        "    test_set_x_orig = np.array(test_dataset[\"test_set_x\"][:])  # Test set features\n",
        "    test_set_y_orig = np.array(test_dataset[\"test_set_y\"][:])  # Test set labels\n",
        "\n",
        "    classes = np.array(test_dataset[\"list_classes\"][:])  # List of classes\n",
        "\n",
        "    # Reshape labels\n",
        "    train_set_y_orig = train_set_y_orig.reshape((1, train_set_y_orig.shape[0]))\n",
        "    test_set_y_orig = test_set_y_orig.reshape((1, test_set_y_orig.shape[0]))\n",
        "\n",
        "    return train_set_x_orig, train_set_y_orig, test_set_x_orig, test_set_y_orig, classes"
      ]
    },
    {
      "cell_type": "markdown",
      "metadata": {
        "id": "JhzB-_zD4sUH"
      },
      "source": [
        "## Importing Dataset"
      ]
    },
    {
      "cell_type": "code",
      "execution_count": 3,
      "metadata": {
        "colab": {
          "base_uri": "https://localhost:8080/"
        },
        "id": "VDC_aGp_zLzE",
        "outputId": "b50daf76-92bb-4eef-e2a4-02fd4d928938"
      },
      "outputs": [
        {
          "output_type": "stream",
          "name": "stdout",
          "text": [
            "Downloading train_catvnoncat.h5...\n",
            "File downloaded: train_catvnoncat.h5\n",
            "Downloading test_catvnoncat.h5...\n",
            "File downloaded: test_catvnoncat.h5\n"
          ]
        }
      ],
      "source": [
        "train_set_x_orig, train_set_y, test_set_x_orig, test_set_y, classes = load_dataset()"
      ]
    },
    {
      "cell_type": "markdown",
      "metadata": {
        "id": "43XfhBql4xHz"
      },
      "source": [
        "## Data Visualization"
      ]
    },
    {
      "cell_type": "code",
      "execution_count": 7,
      "metadata": {
        "colab": {
          "base_uri": "https://localhost:8080/",
          "height": 449
        },
        "id": "3BTUPBQvzPpW",
        "outputId": "a88e6e1e-2f20-4a5b-e025-2a21648ce087"
      },
      "outputs": [
        {
          "output_type": "stream",
          "name": "stdout",
          "text": [
            "label:  [0]\n"
          ]
        },
        {
          "output_type": "display_data",
          "data": {
            "text/plain": [
              "<Figure size 640x480 with 1 Axes>"
            ],
            "image/png": "[encoded data removed]"
          },
          "metadata": {}
        }
      ],
      "source": [
        "# Example of a picture\n",
        "index = np.random.randint(100)   # select a number between 0 and 208\n",
        "#index = np.random.randint(0, 200)  # you can also generate a random number and see the different imagge each time\n",
        "plt.imshow(train_set_x_orig[index])\n",
        "print(\"label: \", train_set_y[:, index])"
      ]
    },
    {
      "cell_type": "code",
      "source": [
        "train_set_x_orig[26]"
      ],
      "metadata": {
        "id": "6uek4wm8M8PM",
        "outputId": "5c2c3f96-d755-4b08-d03e-3ce1913f1ff4",
        "colab": {
          "base_uri": "https://localhost:8080/",
          "height": 105
        }
      },
      "execution_count": 6,
      "outputs": [
        {
          "output_type": "execute_result",
          "data": {
            "text/plain": [
              "array([[[ 78, 116,  50],\n",
              "        [ 82, 120,  53],\n",
              "        [ 80, 120,  52],\n",
              "        ...,\n",
              "        [ 98, 116,  89],\n",
              "        [115, 131, 105],\n",
              "        [158, 171, 135]],\n",
              "\n",
              "       [[ 82, 114,  55],\n",
              "        [ 84, 120,  55],\n",
              "        [ 83, 120,  52],\n",
              "        ...,\n",
              "        [ 96, 114,  90],\n",
              "        [127, 143, 112],\n",
              "        [136, 156, 112]],\n",
              "\n",
              "       [[104, 122,  86],\n",
              "        [ 86, 108,  59],\n",
              "        [ 81, 111,  52],\n",
              "        ...,\n",
              "        [102, 119,  96],\n",
              "        [112, 131,  90],\n",
              "        [116, 141,  86]],\n",
              "\n",
              "       ...,\n",
              "\n",
              "       [[ 29,  38,  43],\n",
              "        [ 29,  38,  42],\n",
              "        [ 29,  38,  43],\n",
              "        ...,\n",
              "        [ 76,  80,  78],\n",
              "        [ 78,  81,  80],\n",
              "        [ 81,  83,  82]],\n",
              "\n",
              "       [[ 29,  36,  41],\n",
              "        [ 28,  38,  41],\n",
              "        [ 29,  38,  43],\n",
              "        ...,\n",
              "        [ 85,  88,  85],\n",
              "        [ 80,  83,  82],\n",
              "        [ 80,  82,  81]],\n",
              "\n",
              "       [[ 27,  37,  38],\n",
              "        [ 28,  37,  40],\n",
              "        [ 30,  38,  43],\n",
              "        ...,\n",
              "        [ 84,  87,  86],\n",
              "        [ 79,  81,  80],\n",
              "        [ 69,  72,  71]]], dtype=uint8)"
            ],
            "text/html": [
              "<style>\n",
              "      .ndarray_repr .ndarray_raw_data {\n",
              "        display: none;\n",
              "      }\n",
              "      .ndarray_repr.show_array .ndarray_raw_data {\n",
              "        display: block;\n",
              "      }\n",
              "      .ndarray_repr.show_array .ndarray_image_preview {\n",
              "        display: none;\n",
              "      }\n",
              "      </style>\n",
              "      <div id=\"id-bdd937e2-735c-499d-b475-0737d88fa4a7\" class=\"ndarray_repr\"><pre>ndarray (64, 64, 3) <button style=\"padding: 0 2px;\">show data</button></pre><img src=\"data:image/png;base64,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\" class=\"ndarray_image_preview\" /><pre class=\"ndarray_raw_data\">array([[[ 78, 116,  50],\n",
              "        [ 82, 120,  53],\n",
              "        [ 80, 120,  52],\n",
              "        ...,\n",
              "        [ 98, 116,  89],\n",
              "        [115, 131, 105],\n",
              "        [158, 171, 135]],\n",
              "\n",
              "       [[ 82, 114,  55],\n",
              "        [ 84, 120,  55],\n",
              "        [ 83, 120,  52],\n",
              "        ...,\n",
              "        [ 96, 114,  90],\n",
              "        [127, 143, 112],\n",
              "        [136, 156, 112]],\n",
              "\n",
              "       [[104, 122,  86],\n",
              "        [ 86, 108,  59],\n",
              "        [ 81, 111,  52],\n",
              "        ...,\n",
              "        [102, 119,  96],\n",
              "        [112, 131,  90],\n",
              "        [116, 141,  86]],\n",
              "\n",
              "       ...,\n",
              "\n",
              "       [[ 29,  38,  43],\n",
              "        [ 29,  38,  42],\n",
              "        [ 29,  38,  43],\n",
              "        ...,\n",
              "        [ 76,  80,  78],\n",
              "        [ 78,  81,  80],\n",
              "        [ 81,  83,  82]],\n",
              "\n",
              "       [[ 29,  36,  41],\n",
              "        [ 28,  38,  41],\n",
              "        [ 29,  38,  43],\n",
              "        ...,\n",
              "        [ 85,  88,  85],\n",
              "        [ 80,  83,  82],\n",
              "        [ 80,  82,  81]],\n",
              "\n",
              "       [[ 27,  37,  38],\n",
              "        [ 28,  37,  40],\n",
              "        [ 30,  38,  43],\n",
              "        ...,\n",
              "        [ 84,  87,  86],\n",
              "        [ 79,  81,  80],\n",
              "        [ 69,  72,  71]]], dtype=uint8)</pre></div><script>\n",
              "      (() => {\n",
              "      const titles = ['show data', 'hide data'];\n",
              "      let index = 0\n",
              "      document.querySelector('#id-bdd937e2-735c-499d-b475-0737d88fa4a7 button').onclick = (e) => {\n",
              "        document.querySelector('#id-bdd937e2-735c-499d-b475-0737d88fa4a7').classList.toggle('show_array');\n",
              "        index = (++index) % 2;\n",
              "        document.querySelector('#id-bdd937e2-735c-499d-b475-0737d88fa4a7 button').textContent = titles[index];\n",
              "        e.preventDefault();\n",
              "        e.stopPropagation();\n",
              "      }\n",
              "      })();\n",
              "    </script>"
            ]
          },
          "metadata": {},
          "execution_count": 6
        }
      ]
    },
    {
      "cell_type": "code",
      "source": [
        "64*64*3"
      ],
      "metadata": {
        "id": "B7-xMe9WNH67",
        "outputId": "a5573616-677e-4068-ae4f-1123ba6386ae",
        "colab": {
          "base_uri": "https://localhost:8080/"
        }
      },
      "execution_count": 5,
      "outputs": [
        {
          "output_type": "execute_result",
          "data": {
            "text/plain": [
              "12288"
            ]
          },
          "metadata": {},
          "execution_count": 5
        }
      ]
    },
    {
      "cell_type": "markdown",
      "metadata": {
        "id": "lMMLsPL5jgSF"
      },
      "source": [
        "### **Exercise 1:** Take a look at five different images in train/test set. Try to see both cat and non-cat samples."
      ]
    },
    {
      "cell_type": "code",
      "execution_count": 8,
      "metadata": {
        "id": "hqGL_XaXj2OP",
        "outputId": "8908f96a-15f4-4725-e09f-1a2978433701",
        "colab": {
          "base_uri": "https://localhost:8080/",
          "height": 449
        }
      },
      "outputs": [
        {
          "output_type": "stream",
          "name": "stdout",
          "text": [
            "label:  [0]\n"
          ]
        },
        {
          "output_type": "display_data",
          "data": {
            "text/plain": [
              "<Figure size 640x480 with 1 Axes>"
            ],
            "image/png": "[encoded data removed]"
          },
          "metadata": {}
        }
      ],
      "source": [
        "#your code here\n",
        "\n",
        "index = np.random.randint(80)   # select a number between 0 and 208\n",
        "#index = np.random.randint(0, 200)  # you can also generate a random number and see the different imagge each time\n",
        "plt.imshow(train_set_x_orig[index])\n",
        "print(\"label: \", train_set_y[:, index])\n"
      ]
    },
    {
      "cell_type": "markdown",
      "metadata": {
        "id": "3gL2KxE7r0h7"
      },
      "source": [
        "### **Exercise 2:** Print `train_set_y` array to see the labels of the data. What percentage of the pictures in `train set` contain cats?"
      ]
    },
    {
      "cell_type": "code",
      "execution_count": 12,
      "metadata": {
        "id": "phnJSNEDsIsc",
        "outputId": "495f1444-a3a6-43c9-8fc1-14d723b00eba",
        "colab": {
          "base_uri": "https://localhost:8080/"
        }
      },
      "outputs": [
        {
          "output_type": "execute_result",
          "data": {
            "text/plain": [
              "array([0, 0, 1, 0, 0, 0, 0, 1, 0, 0, 0, 1, 0, 1, 1, 0, 0, 0, 0, 1, 0, 0,\n",
              "       0, 0, 1, 1, 0, 1, 0, 1, 0, 0, 0, 0, 0, 0, 0, 0, 1, 0, 0, 1, 1, 0,\n",
              "       0, 0, 0, 1, 0, 0, 1, 0, 0, 0, 1, 0, 1, 1, 0, 1, 1, 1, 0, 0, 0, 0,\n",
              "       0, 0, 1, 0, 0, 1, 0, 0, 0, 0, 0, 0, 0, 0, 0, 0, 0, 1, 1, 0, 0, 0,\n",
              "       1, 0, 0, 0, 1, 1, 1, 0, 0, 1, 0, 0, 0, 0, 1, 0, 1, 0, 1, 1, 1, 1,\n",
              "       1, 1, 0, 0, 0, 0, 0, 1, 0, 0, 0, 1, 0, 0, 1, 0, 1, 0, 1, 1, 0, 0,\n",
              "       0, 1, 1, 1, 1, 1, 0, 0, 0, 0, 1, 0, 1, 1, 1, 0, 1, 1, 0, 0, 0, 1,\n",
              "       0, 0, 1, 0, 0, 0, 0, 0, 1, 0, 1, 0, 1, 0, 0, 1, 1, 1, 0, 0, 1, 1,\n",
              "       0, 1, 0, 1, 0, 0, 0, 0, 0, 1, 0, 0, 1, 0, 0, 0, 1, 0, 0, 0, 0, 1,\n",
              "       0, 0, 1, 0, 0, 0, 0, 0, 0, 0, 0])"
            ]
          },
          "metadata": {},
          "execution_count": 12
        }
      ],
      "source": [
        "# your code here\n",
        "train_set_y.reshape(-1)\n",
        "#train_set_y.reshape((6,-1))\n",
        "#train_set_y.reshape((6,-1)).shape\n",
        "#train_set_y.flatten().shape"
      ]
    },
    {
      "cell_type": "markdown",
      "metadata": {
        "id": "ZzIKs9d546Bx"
      },
      "source": [
        "## Data Pre-processing"
      ]
    },
    {
      "cell_type": "markdown",
      "metadata": {
        "id": "pOpUDYyXMXI0"
      },
      "source": [
        "### Brief Theory: Numerical Representation of Images"
      ]
    },
    {
      "cell_type": "markdown",
      "metadata": {
        "id": "1Ybd7jVO7d59"
      },
      "source": [
        "![preprocessing](https://raw.githubusercontent.com/PyDataGBC/PyML2025/refs/heads/main/LabWeek2/assets/imvectorkiank.png)"
      ]
    },
    {
      "cell_type": "markdown",
      "metadata": {
        "id": "ww93xSbYKaOk"
      },
      "source": [
        "### **Example 1:** Numerical Representation of an Image"
      ]
    },
    {
      "cell_type": "markdown",
      "metadata": {
        "id": "9X8lR04-sOcq"
      },
      "source": [
        "![](https://raw.githubusercontent.com/PyDataGBC/PyML2025/refs/heads/main/LabWeek2/assets/imtovec_example.webp)"
      ]
    },
    {
      "cell_type": "markdown",
      "metadata": {
        "id": "jx9HmhdvLa35"
      },
      "source": [
        "#### Step 1: Numerical representation of each channel (`MATRIX` format)"
      ]
    },
    {
      "cell_type": "code",
      "execution_count": 13,
      "metadata": {
        "id": "QRvJcO5sLa35",
        "outputId": "0c4208c7-396d-43a4-ad84-719c93d5dd29",
        "colab": {
          "base_uri": "https://localhost:8080/"
        }
      },
      "outputs": [
        {
          "output_type": "stream",
          "name": "stdout",
          "text": [
            "Red Channel\n",
            "(3, 3)\n",
            "[[255 123 135]\n",
            " [ 44  12  15]\n",
            " [ 56  87  90]]\n",
            "Green Channel\n",
            "(3, 3)\n",
            "[[255 133 175]\n",
            " [ 24 123 169]\n",
            " [ 98  66  77]]\n",
            "Bue Channel\n",
            "(3, 3)\n",
            "[[ 66  54  88]\n",
            " [ 55  98  54]\n",
            " [ 87 142  89]]\n"
          ]
        }
      ],
      "source": [
        "red_channel = np.array([[255, 123, 135], [44, 12, 15], [56, 87, 90]]) # 2d array: Matrix\n",
        "green_channel = np.array([[255, 133, 175], [24, 123, 169], [98, 66, 77]])\n",
        "blue_channel = np.array([[66, 54, 88], [55, 98, 54], [87, 142, 89]])\n",
        "\n",
        "print(\"Red Channel\")\n",
        "print(red_channel.shape)\n",
        "print(red_channel)\n",
        "\n",
        "print(\"Green Channel\")\n",
        "print(green_channel.shape)\n",
        "print(green_channel)\n",
        "\n",
        "print(\"Bue Channel\")\n",
        "print(blue_channel.shape)\n",
        "print(blue_channel)\n",
        "\n"
      ]
    },
    {
      "cell_type": "markdown",
      "metadata": {
        "id": "U7IyeEcmLa35"
      },
      "source": [
        "#### Step 2: Putting the channels together in the form of a `TENSOR`"
      ]
    },
    {
      "cell_type": "code",
      "execution_count": 14,
      "metadata": {
        "id": "7PFsUt2wLa35",
        "outputId": "c1f60665-5f78-49ca-ea54-1525cccebcc3",
        "colab": {
          "base_uri": "https://localhost:8080/"
        }
      },
      "outputs": [
        {
          "output_type": "stream",
          "name": "stdout",
          "text": [
            "channel, height, width\n",
            "(3, 3, 3)\n",
            "[[[255 123 135]\n",
            "  [ 44  12  15]\n",
            "  [ 56  87  90]]\n",
            "\n",
            " [[255 133 175]\n",
            "  [ 24 123 169]\n",
            "  [ 98  66  77]]\n",
            "\n",
            " [[ 66  54  88]\n",
            "  [ 55  98  54]\n",
            "  [ 87 142  89]]]\n"
          ]
        }
      ],
      "source": [
        "print(\"channel, height, width\")\n",
        "airplane_image = np.array([red_channel, green_channel, blue_channel])  # 3d array: Tensor\n",
        "print(airplane_image.shape)\n",
        "print(airplane_image)"
      ]
    },
    {
      "cell_type": "markdown",
      "metadata": {
        "id": "8RtWJmv2La35"
      },
      "source": [
        "#### Step 3: Flatten the `tensor` into a `VECTOR`"
      ]
    },
    {
      "cell_type": "code",
      "execution_count": 15,
      "metadata": {
        "colab": {
          "base_uri": "https://localhost:8080/"
        },
        "id": "a99vH96il50J",
        "outputId": "e92c9743-63b1-42e5-dc33-f45e19cca23b"
      },
      "outputs": [
        {
          "output_type": "stream",
          "name": "stdout",
          "text": [
            "(27,)\n",
            "[255 123 135  44  12  15  56  87  90 255 133 175  24 123 169  98  66  77\n",
            "  66  54  88  55  98  54  87 142  89]\n"
          ]
        }
      ],
      "source": [
        "airplane_flatten = airplane_image.flatten()   # 1d array: Vector\n",
        "print(airplane_flatten.shape)\n",
        "print(airplane_flatten)"
      ]
    },
    {
      "cell_type": "markdown",
      "metadata": {
        "id": "PNH054_3icPa"
      },
      "source": [
        "### **Exercise 3:** Take one sample form train set again and check the shape of it. Try to interpret the numbers in the `shape`.\n",
        "\n",
        "**Notes:**\n",
        "- The images are 64x64 `pixels`.\n",
        "- There are 3 RGB `channels`."
      ]
    },
    {
      "cell_type": "code",
      "execution_count": 19,
      "metadata": {
        "id": "NXpWZWGti3FC",
        "outputId": "5a70b3a1-8b76-49ee-ed66-93e35fd9c8fb",
        "colab": {
          "base_uri": "https://localhost:8080/"
        }
      },
      "outputs": [
        {
          "output_type": "execute_result",
          "data": {
            "text/plain": [
              "(64, 64, 3)"
            ]
          },
          "metadata": {},
          "execution_count": 19
        }
      ],
      "source": [
        "sample_index = 25\n",
        "sample_image = train_set_x_orig[25]\n",
        "\n",
        "#your code here\n",
        "sample_image.shape\n",
        "\n",
        "\n"
      ]
    },
    {
      "cell_type": "markdown",
      "metadata": {
        "id": "V2GlT65MLa37"
      },
      "source": [
        "### **Exercise 4:** Fallaten the this sample image? what is the size of the flattened image? why this number?"
      ]
    },
    {
      "cell_type": "code",
      "execution_count": 20,
      "metadata": {
        "id": "ojJigInULa37",
        "outputId": "76194683-6559-483d-959c-3c100b45e870",
        "colab": {
          "base_uri": "https://localhost:8080/"
        }
      },
      "outputs": [
        {
          "output_type": "execute_result",
          "data": {
            "text/plain": [
              "(12288,)"
            ]
          },
          "metadata": {},
          "execution_count": 20
        }
      ],
      "source": [
        "sample_image.flatten().shape"
      ]
    },
    {
      "cell_type": "markdown",
      "metadata": {
        "id": "gJNlOz_Dnvi3"
      },
      "source": [
        "### **Data Preprocessing:** Flattening the entrie Train and Test Datasets\n",
        "\n",
        "**Note:** We're going to talk about the details of the following code in next sessions. For now just pay attentin to the output shapes of data."
      ]
    },
    {
      "cell_type": "code",
      "execution_count": 21,
      "metadata": {
        "colab": {
          "base_uri": "https://localhost:8080/"
        },
        "id": "Vlg5rBn4nOgf",
        "outputId": "f8828fed-9604-457a-f1c5-baa671811261"
      },
      "outputs": [
        {
          "output_type": "stream",
          "name": "stdout",
          "text": [
            "Train set shape:  (209, 12288)\n",
            "Test set shape:  (50, 12288)\n",
            "Train label shape:  (209,)\n",
            "Test label shape:  (50,)\n"
          ]
        }
      ],
      "source": [
        "X_train = train_set_x_orig.reshape(train_set_x_orig.shape[0], -1)\n",
        "print(\"Train set shape: \", X_train.shape)\n",
        "\n",
        "X_test = test_set_x_orig.reshape(test_set_x_orig.shape[0], -1)\n",
        "print(\"Test set shape: \", X_test.shape)\n",
        "\n",
        "y_train = train_set_y[0]\n",
        "print(\"Train label shape: \", y_train.shape)\n",
        "\n",
        "y_test = test_set_y[0]\n",
        "print(\"Test label shape: \", y_test.shape)\n",
        "\n"
      ]
    },
    {
      "cell_type": "code",
      "source": [
        "X_train"
      ],
      "metadata": {
        "id": "ilhy5WTuQq6F",
        "outputId": "782003f0-2e6f-4baa-d56a-068794790645",
        "colab": {
          "base_uri": "https://localhost:8080/"
        }
      },
      "execution_count": 22,
      "outputs": [
        {
          "output_type": "execute_result",
          "data": {
            "text/plain": [
              "array([[ 17,  31,  56, ...,   0,   0,   0],\n",
              "       [196, 192, 190, ...,  82,  80,  81],\n",
              "       [ 82,  71,  68, ..., 138, 141, 142],\n",
              "       ...,\n",
              "       [143, 155, 165, ...,  85, 107, 149],\n",
              "       [ 22,  24,  23, ...,   4,   5,   0],\n",
              "       [  8,  28,  53, ...,   0,   0,   0]], dtype=uint8)"
            ]
          },
          "metadata": {},
          "execution_count": 22
        }
      ]
    },
    {
      "cell_type": "markdown",
      "metadata": {
        "id": "r3v-wGuDLa38"
      },
      "source": [
        "**Important Notes:**\n",
        "- We have 209 samples in the train set, and\n",
        "- 50 samples in the test set.\n",
        "- each sample has 64x64x3=12288 `features`. So each pixel can be considered as one feature.\n",
        "- remember that we had `4` features in `IRIS` dataset and now we have more than `10,000` features."
      ]
    },
    {
      "cell_type": "markdown",
      "metadata": {
        "id": "8hTAntEGmGH8"
      },
      "source": [
        "## Implementing Logistic Regression\n",
        "\n",
        "This is what happens under the hood when you use the `LogisticRegression` classifier in scikit-learn."
      ]
    },
    {
      "cell_type": "markdown",
      "metadata": {
        "id": "iqZ30WFX9F6e"
      },
      "source": [
        "![](https://raw.githubusercontent.com/PyDataGBC/PyML2025/refs/heads/main/LabWeek2/assets/LogReg_kiank.png)"
      ]
    },
    {
      "cell_type": "markdown",
      "metadata": {
        "id": "t7MTzVZWLa38"
      },
      "source": [
        "### **Example 2:** What is the label in the following hypothetical input?\n",
        "\n",
        "![](https://raw.githubusercontent.com/PyDataGBC/PyML2025/refs/heads/main/LabWeek2/assets/toyexample.png)"
      ]
    },
    {
      "cell_type": "code",
      "execution_count": null,
      "metadata": {
        "id": "MsERNK5iLa38"
      },
      "outputs": [],
      "source": [
        "#your calculation here\n"
      ]
    },
    {
      "cell_type": "markdown",
      "metadata": {
        "id": "Gn0UooRwpzRk"
      },
      "source": [
        "### **Exercise 6:** Train a `LogisticRegression` classifier to run a binary classification on the flattened cat pictures."
      ]
    },
    {
      "cell_type": "code",
      "execution_count": 25,
      "metadata": {
        "id": "Lcc0357e9IOH"
      },
      "outputs": [],
      "source": [
        "from sklearn.linear_model import LogisticRegression\n",
        "from sklearn.metrics import accuracy_score"
      ]
    },
    {
      "cell_type": "code",
      "execution_count": 27,
      "metadata": {
        "id": "mF7xJBuzq6P2",
        "outputId": "2eb6485c-22b7-40b6-8700-b61fba492476",
        "colab": {
          "base_uri": "https://localhost:8080/",
          "height": 80
        }
      },
      "outputs": [
        {
          "output_type": "execute_result",
          "data": {
            "text/plain": [
              "LogisticRegression()"
            ],
            "text/html": [
              "<style>#sk-container-id-1 {\n",
              "  /* Definition of color scheme common for light and dark mode */\n",
              "  --sklearn-color-text: #000;\n",
              "  --sklearn-color-text-muted: #666;\n",
              "  --sklearn-color-line: gray;\n",
              "  /* Definition of color scheme for unfitted estimators */\n",
              "  --sklearn-color-unfitted-level-0: #fff5e6;\n",
              "  --sklearn-color-unfitted-level-1: #f6e4d2;\n",
              "  --sklearn-color-unfitted-level-2: #ffe0b3;\n",
              "  --sklearn-color-unfitted-level-3: chocolate;\n",
              "  /* Definition of color scheme for fitted estimators */\n",
              "  --sklearn-color-fitted-level-0: #f0f8ff;\n",
              "  --sklearn-color-fitted-level-1: #d4ebff;\n",
              "  --sklearn-color-fitted-level-2: #b3dbfd;\n",
              "  --sklearn-color-fitted-level-3: cornflowerblue;\n",
              "\n",
              "  /* Specific color for light theme */\n",
              "  --sklearn-color-text-on-default-background: var(--sg-text-color, var(--theme-code-foreground, var(--jp-content-font-color1, black)));\n",
              "  --sklearn-color-background: var(--sg-background-color, var(--theme-background, var(--jp-layout-color0, white)));\n",
              "  --sklearn-color-border-box: var(--sg-text-color, var(--theme-code-foreground, var(--jp-content-font-color1, black)));\n",
              "  --sklearn-color-icon: #696969;\n",
              "\n",
              "  @media (prefers-color-scheme: dark) {\n",
              "    /* Redefinition of color scheme for dark theme */\n",
              "    --sklearn-color-text-on-default-background: var(--sg-text-color, var(--theme-code-foreground, var(--jp-content-font-color1, white)));\n",
              "    --sklearn-color-background: var(--sg-background-color, var(--theme-background, var(--jp-layout-color0, #111)));\n",
              "    --sklearn-color-border-box: var(--sg-text-color, var(--theme-code-foreground, var(--jp-content-font-color1, white)));\n",
              "    --sklearn-color-icon: #878787;\n",
              "  }\n",
              "}\n",
              "\n",
              "#sk-container-id-1 {\n",
              "  color: var(--sklearn-color-text);\n",
              "}\n",
              "\n",
              "#sk-container-id-1 pre {\n",
              "  padding: 0;\n",
              "}\n",
              "\n",
              "#sk-container-id-1 input.sk-hidden--visually {\n",
              "  border: 0;\n",
              "  clip: rect(1px 1px 1px 1px);\n",
              "  clip: rect(1px, 1px, 1px, 1px);\n",
              "  height: 1px;\n",
              "  margin: -1px;\n",
              "  overflow: hidden;\n",
              "  padding: 0;\n",
              "  position: absolute;\n",
              "  width: 1px;\n",
              "}\n",
              "\n",
              "#sk-container-id-1 div.sk-dashed-wrapped {\n",
              "  border: 1px dashed var(--sklearn-color-line);\n",
              "  margin: 0 0.4em 0.5em 0.4em;\n",
              "  box-sizing: border-box;\n",
              "  padding-bottom: 0.4em;\n",
              "  background-color: var(--sklearn-color-background);\n",
              "}\n",
              "\n",
              "#sk-container-id-1 div.sk-container {\n",
              "  /* jupyter's `normalize.less` sets `[hidden] { display: none; }`\n",
              "     but bootstrap.min.css set `[hidden] { display: none !important; }`\n",
              "     so we also need the `!important` here to be able to override the\n",
              "     default hidden behavior on the sphinx rendered scikit-learn.org.\n",
              "     See: https://github.com/scikit-learn/scikit-learn/issues/21755 */\n",
              "  display: inline-block !important;\n",
              "  position: relative;\n",
              "}\n",
              "\n",
              "#sk-container-id-1 div.sk-text-repr-fallback {\n",
              "  display: none;\n",
              "}\n",
              "\n",
              "div.sk-parallel-item,\n",
              "div.sk-serial,\n",
              "div.sk-item {\n",
              "  /* draw centered vertical line to link estimators */\n",
              "  background-image: linear-gradient(var(--sklearn-color-text-on-default-background), var(--sklearn-color-text-on-default-background));\n",
              "  background-size: 2px 100%;\n",
              "  background-repeat: no-repeat;\n",
              "  background-position: center center;\n",
              "}\n",
              "\n",
              "/* Parallel-specific style estimator block */\n",
              "\n",
              "#sk-container-id-1 div.sk-parallel-item::after {\n",
              "  content: \"\";\n",
              "  width: 100%;\n",
              "  border-bottom: 2px solid var(--sklearn-color-text-on-default-background);\n",
              "  flex-grow: 1;\n",
              "}\n",
              "\n",
              "#sk-container-id-1 div.sk-parallel {\n",
              "  display: flex;\n",
              "  align-items: stretch;\n",
              "  justify-content: center;\n",
              "  background-color: var(--sklearn-color-background);\n",
              "  position: relative;\n",
              "}\n",
              "\n",
              "#sk-container-id-1 div.sk-parallel-item {\n",
              "  display: flex;\n",
              "  flex-direction: column;\n",
              "}\n",
              "\n",
              "#sk-container-id-1 div.sk-parallel-item:first-child::after {\n",
              "  align-self: flex-end;\n",
              "  width: 50%;\n",
              "}\n",
              "\n",
              "#sk-container-id-1 div.sk-parallel-item:last-child::after {\n",
              "  align-self: flex-start;\n",
              "  width: 50%;\n",
              "}\n",
              "\n",
              "#sk-container-id-1 div.sk-parallel-item:only-child::after {\n",
              "  width: 0;\n",
              "}\n",
              "\n",
              "/* Serial-specific style estimator block */\n",
              "\n",
              "#sk-container-id-1 div.sk-serial {\n",
              "  display: flex;\n",
              "  flex-direction: column;\n",
              "  align-items: center;\n",
              "  background-color: var(--sklearn-color-background);\n",
              "  padding-right: 1em;\n",
              "  padding-left: 1em;\n",
              "}\n",
              "\n",
              "\n",
              "/* Toggleable style: style used for estimator/Pipeline/ColumnTransformer box that is\n",
              "clickable and can be expanded/collapsed.\n",
              "- Pipeline and ColumnTransformer use this feature and define the default style\n",
              "- Estimators will overwrite some part of the style using the `sk-estimator` class\n",
              "*/\n",
              "\n",
              "/* Pipeline and ColumnTransformer style (default) */\n",
              "\n",
              "#sk-container-id-1 div.sk-toggleable {\n",
              "  /* Default theme specific background. It is overwritten whether we have a\n",
              "  specific estimator or a Pipeline/ColumnTransformer */\n",
              "  background-color: var(--sklearn-color-background);\n",
              "}\n",
              "\n",
              "/* Toggleable label */\n",
              "#sk-container-id-1 label.sk-toggleable__label {\n",
              "  cursor: pointer;\n",
              "  display: flex;\n",
              "  width: 100%;\n",
              "  margin-bottom: 0;\n",
              "  padding: 0.5em;\n",
              "  box-sizing: border-box;\n",
              "  text-align: center;\n",
              "  align-items: start;\n",
              "  justify-content: space-between;\n",
              "  gap: 0.5em;\n",
              "}\n",
              "\n",
              "#sk-container-id-1 label.sk-toggleable__label .caption {\n",
              "  font-size: 0.6rem;\n",
              "  font-weight: lighter;\n",
              "  color: var(--sklearn-color-text-muted);\n",
              "}\n",
              "\n",
              "#sk-container-id-1 label.sk-toggleable__label-arrow:before {\n",
              "  /* Arrow on the left of the label */\n",
              "  content: \"▸\";\n",
              "  float: left;\n",
              "  margin-right: 0.25em;\n",
              "  color: var(--sklearn-color-icon);\n",
              "}\n",
              "\n",
              "#sk-container-id-1 label.sk-toggleable__label-arrow:hover:before {\n",
              "  color: var(--sklearn-color-text);\n",
              "}\n",
              "\n",
              "/* Toggleable content - dropdown */\n",
              "\n",
              "#sk-container-id-1 div.sk-toggleable__content {\n",
              "  max-height: 0;\n",
              "  max-width: 0;\n",
              "  overflow: hidden;\n",
              "  text-align: left;\n",
              "  /* unfitted */\n",
              "  background-color: var(--sklearn-color-unfitted-level-0);\n",
              "}\n",
              "\n",
              "#sk-container-id-1 div.sk-toggleable__content.fitted {\n",
              "  /* fitted */\n",
              "  background-color: var(--sklearn-color-fitted-level-0);\n",
              "}\n",
              "\n",
              "#sk-container-id-1 div.sk-toggleable__content pre {\n",
              "  margin: 0.2em;\n",
              "  border-radius: 0.25em;\n",
              "  color: var(--sklearn-color-text);\n",
              "  /* unfitted */\n",
              "  background-color: var(--sklearn-color-unfitted-level-0);\n",
              "}\n",
              "\n",
              "#sk-container-id-1 div.sk-toggleable__content.fitted pre {\n",
              "  /* unfitted */\n",
              "  background-color: var(--sklearn-color-fitted-level-0);\n",
              "}\n",
              "\n",
              "#sk-container-id-1 input.sk-toggleable__control:checked~div.sk-toggleable__content {\n",
              "  /* Expand drop-down */\n",
              "  max-height: 200px;\n",
              "  max-width: 100%;\n",
              "  overflow: auto;\n",
              "}\n",
              "\n",
              "#sk-container-id-1 input.sk-toggleable__control:checked~label.sk-toggleable__label-arrow:before {\n",
              "  content: \"▾\";\n",
              "}\n",
              "\n",
              "/* Pipeline/ColumnTransformer-specific style */\n",
              "\n",
              "#sk-container-id-1 div.sk-label input.sk-toggleable__control:checked~label.sk-toggleable__label {\n",
              "  color: var(--sklearn-color-text);\n",
              "  background-color: var(--sklearn-color-unfitted-level-2);\n",
              "}\n",
              "\n",
              "#sk-container-id-1 div.sk-label.fitted input.sk-toggleable__control:checked~label.sk-toggleable__label {\n",
              "  background-color: var(--sklearn-color-fitted-level-2);\n",
              "}\n",
              "\n",
              "/* Estimator-specific style */\n",
              "\n",
              "/* Colorize estimator box */\n",
              "#sk-container-id-1 div.sk-estimator input.sk-toggleable__control:checked~label.sk-toggleable__label {\n",
              "  /* unfitted */\n",
              "  background-color: var(--sklearn-color-unfitted-level-2);\n",
              "}\n",
              "\n",
              "#sk-container-id-1 div.sk-estimator.fitted input.sk-toggleable__control:checked~label.sk-toggleable__label {\n",
              "  /* fitted */\n",
              "  background-color: var(--sklearn-color-fitted-level-2);\n",
              "}\n",
              "\n",
              "#sk-container-id-1 div.sk-label label.sk-toggleable__label,\n",
              "#sk-container-id-1 div.sk-label label {\n",
              "  /* The background is the default theme color */\n",
              "  color: var(--sklearn-color-text-on-default-background);\n",
              "}\n",
              "\n",
              "/* On hover, darken the color of the background */\n",
              "#sk-container-id-1 div.sk-label:hover label.sk-toggleable__label {\n",
              "  color: var(--sklearn-color-text);\n",
              "  background-color: var(--sklearn-color-unfitted-level-2);\n",
              "}\n",
              "\n",
              "/* Label box, darken color on hover, fitted */\n",
              "#sk-container-id-1 div.sk-label.fitted:hover label.sk-toggleable__label.fitted {\n",
              "  color: var(--sklearn-color-text);\n",
              "  background-color: var(--sklearn-color-fitted-level-2);\n",
              "}\n",
              "\n",
              "/* Estimator label */\n",
              "\n",
              "#sk-container-id-1 div.sk-label label {\n",
              "  font-family: monospace;\n",
              "  font-weight: bold;\n",
              "  display: inline-block;\n",
              "  line-height: 1.2em;\n",
              "}\n",
              "\n",
              "#sk-container-id-1 div.sk-label-container {\n",
              "  text-align: center;\n",
              "}\n",
              "\n",
              "/* Estimator-specific */\n",
              "#sk-container-id-1 div.sk-estimator {\n",
              "  font-family: monospace;\n",
              "  border: 1px dotted var(--sklearn-color-border-box);\n",
              "  border-radius: 0.25em;\n",
              "  box-sizing: border-box;\n",
              "  margin-bottom: 0.5em;\n",
              "  /* unfitted */\n",
              "  background-color: var(--sklearn-color-unfitted-level-0);\n",
              "}\n",
              "\n",
              "#sk-container-id-1 div.sk-estimator.fitted {\n",
              "  /* fitted */\n",
              "  background-color: var(--sklearn-color-fitted-level-0);\n",
              "}\n",
              "\n",
              "/* on hover */\n",
              "#sk-container-id-1 div.sk-estimator:hover {\n",
              "  /* unfitted */\n",
              "  background-color: var(--sklearn-color-unfitted-level-2);\n",
              "}\n",
              "\n",
              "#sk-container-id-1 div.sk-estimator.fitted:hover {\n",
              "  /* fitted */\n",
              "  background-color: var(--sklearn-color-fitted-level-2);\n",
              "}\n",
              "\n",
              "/* Specification for estimator info (e.g. \"i\" and \"?\") */\n",
              "\n",
              "/* Common style for \"i\" and \"?\" */\n",
              "\n",
              ".sk-estimator-doc-link,\n",
              "a:link.sk-estimator-doc-link,\n",
              "a:visited.sk-estimator-doc-link {\n",
              "  float: right;\n",
              "  font-size: smaller;\n",
              "  line-height: 1em;\n",
              "  font-family: monospace;\n",
              "  background-color: var(--sklearn-color-background);\n",
              "  border-radius: 1em;\n",
              "  height: 1em;\n",
              "  width: 1em;\n",
              "  text-decoration: none !important;\n",
              "  margin-left: 0.5em;\n",
              "  text-align: center;\n",
              "  /* unfitted */\n",
              "  border: var(--sklearn-color-unfitted-level-1) 1pt solid;\n",
              "  color: var(--sklearn-color-unfitted-level-1);\n",
              "}\n",
              "\n",
              ".sk-estimator-doc-link.fitted,\n",
              "a:link.sk-estimator-doc-link.fitted,\n",
              "a:visited.sk-estimator-doc-link.fitted {\n",
              "  /* fitted */\n",
              "  border: var(--sklearn-color-fitted-level-1) 1pt solid;\n",
              "  color: var(--sklearn-color-fitted-level-1);\n",
              "}\n",
              "\n",
              "/* On hover */\n",
              "div.sk-estimator:hover .sk-estimator-doc-link:hover,\n",
              ".sk-estimator-doc-link:hover,\n",
              "div.sk-label-container:hover .sk-estimator-doc-link:hover,\n",
              ".sk-estimator-doc-link:hover {\n",
              "  /* unfitted */\n",
              "  background-color: var(--sklearn-color-unfitted-level-3);\n",
              "  color: var(--sklearn-color-background);\n",
              "  text-decoration: none;\n",
              "}\n",
              "\n",
              "div.sk-estimator.fitted:hover .sk-estimator-doc-link.fitted:hover,\n",
              ".sk-estimator-doc-link.fitted:hover,\n",
              "div.sk-label-container:hover .sk-estimator-doc-link.fitted:hover,\n",
              ".sk-estimator-doc-link.fitted:hover {\n",
              "  /* fitted */\n",
              "  background-color: var(--sklearn-color-fitted-level-3);\n",
              "  color: var(--sklearn-color-background);\n",
              "  text-decoration: none;\n",
              "}\n",
              "\n",
              "/* Span, style for the box shown on hovering the info icon */\n",
              ".sk-estimator-doc-link span {\n",
              "  display: none;\n",
              "  z-index: 9999;\n",
              "  position: relative;\n",
              "  font-weight: normal;\n",
              "  right: .2ex;\n",
              "  padding: .5ex;\n",
              "  margin: .5ex;\n",
              "  width: min-content;\n",
              "  min-width: 20ex;\n",
              "  max-width: 50ex;\n",
              "  color: var(--sklearn-color-text);\n",
              "  box-shadow: 2pt 2pt 4pt #999;\n",
              "  /* unfitted */\n",
              "  background: var(--sklearn-color-unfitted-level-0);\n",
              "  border: .5pt solid var(--sklearn-color-unfitted-level-3);\n",
              "}\n",
              "\n",
              ".sk-estimator-doc-link.fitted span {\n",
              "  /* fitted */\n",
              "  background: var(--sklearn-color-fitted-level-0);\n",
              "  border: var(--sklearn-color-fitted-level-3);\n",
              "}\n",
              "\n",
              ".sk-estimator-doc-link:hover span {\n",
              "  display: block;\n",
              "}\n",
              "\n",
              "/* \"?\"-specific style due to the `<a>` HTML tag */\n",
              "\n",
              "#sk-container-id-1 a.estimator_doc_link {\n",
              "  float: right;\n",
              "  font-size: 1rem;\n",
              "  line-height: 1em;\n",
              "  font-family: monospace;\n",
              "  background-color: var(--sklearn-color-background);\n",
              "  border-radius: 1rem;\n",
              "  height: 1rem;\n",
              "  width: 1rem;\n",
              "  text-decoration: none;\n",
              "  /* unfitted */\n",
              "  color: var(--sklearn-color-unfitted-level-1);\n",
              "  border: var(--sklearn-color-unfitted-level-1) 1pt solid;\n",
              "}\n",
              "\n",
              "#sk-container-id-1 a.estimator_doc_link.fitted {\n",
              "  /* fitted */\n",
              "  border: var(--sklearn-color-fitted-level-1) 1pt solid;\n",
              "  color: var(--sklearn-color-fitted-level-1);\n",
              "}\n",
              "\n",
              "/* On hover */\n",
              "#sk-container-id-1 a.estimator_doc_link:hover {\n",
              "  /* unfitted */\n",
              "  background-color: var(--sklearn-color-unfitted-level-3);\n",
              "  color: var(--sklearn-color-background);\n",
              "  text-decoration: none;\n",
              "}\n",
              "\n",
              "#sk-container-id-1 a.estimator_doc_link.fitted:hover {\n",
              "  /* fitted */\n",
              "  background-color: var(--sklearn-color-fitted-level-3);\n",
              "}\n",
              "</style><div id=\"sk-container-id-1\" class=\"sk-top-container\"><div class=\"sk-text-repr-fallback\"><pre>LogisticRegression()</pre><b>In a Jupyter environment, please rerun this cell to show the HTML representation or trust the notebook. <br />On GitHub, the HTML representation is unable to render, please try loading this page with nbviewer.org.</b></div><div class=\"sk-container\" hidden><div class=\"sk-item\"><div class=\"sk-estimator fitted sk-toggleable\"><input class=\"sk-toggleable__control sk-hidden--visually\" id=\"sk-estimator-id-1\" type=\"checkbox\" checked><label for=\"sk-estimator-id-1\" class=\"sk-toggleable__label fitted sk-toggleable__label-arrow\"><div><div>LogisticRegression</div></div><div><a class=\"sk-estimator-doc-link fitted\" rel=\"noreferrer\" target=\"_blank\" href=\"https://scikit-learn.org/1.6/modules/generated/sklearn.linear_model.LogisticRegression.html\">?<span>Documentation for LogisticRegression</span></a><span class=\"sk-estimator-doc-link fitted\">i<span>Fitted</span></span></div></label><div class=\"sk-toggleable__content fitted\"><pre>LogisticRegression()</pre></div> </div></div></div></div>"
            ]
          },
          "metadata": {},
          "execution_count": 27
        }
      ],
      "source": [
        "#your code here\n",
        "model = LogisticRegression()\n",
        "model.fit(X_train, y_train)\n"
      ]
    },
    {
      "cell_type": "code",
      "source": [
        "model.predict(X_test)\n"
      ],
      "metadata": {
        "id": "4ZL1KkO_RiqO",
        "outputId": "4fec8261-14f1-4b90-ba88-0c06098f2c28",
        "colab": {
          "base_uri": "https://localhost:8080/"
        }
      },
      "execution_count": 28,
      "outputs": [
        {
          "output_type": "execute_result",
          "data": {
            "text/plain": [
              "array([1, 1, 1, 1, 1, 1, 0, 1, 1, 1, 0, 0, 1, 1, 0, 1, 0, 1, 0, 0, 1, 0,\n",
              "       0, 1, 0, 1, 1, 0, 0, 1, 0, 1, 0, 1, 1, 0, 0, 1, 0, 0, 1, 0, 1, 0,\n",
              "       1, 1, 0, 1, 1, 0])"
            ]
          },
          "metadata": {},
          "execution_count": 28
        }
      ]
    },
    {
      "cell_type": "code",
      "source": [
        "#y_pred = model.predict(X_test)\n",
        "accuracy = accuracy_score(y_test, y_pred)"
      ],
      "metadata": {
        "id": "pn8DC36pRufp"
      },
      "execution_count": 29,
      "outputs": []
    },
    {
      "cell_type": "code",
      "source": [
        "(model.predict(X_test) == y_test).sum()/y_test.size"
      ],
      "metadata": {
        "id": "gN-DKiWYR0It",
        "outputId": "bb5e55d2-16bc-4334-a473-c502c7bf0e88",
        "colab": {
          "base_uri": "https://localhost:8080/"
        }
      },
      "execution_count": 31,
      "outputs": [
        {
          "output_type": "execute_result",
          "data": {
            "text/plain": [
              "0.66"
            ]
          },
          "metadata": {},
          "execution_count": 31
        }
      ]
    },
    {
      "cell_type": "markdown",
      "metadata": {
        "id": "FyCDtA0QqikC"
      },
      "source": [
        "### **Exercise 7:** Evaluate your model manually\n",
        "\n",
        "1. Choose a random index of an image.\n",
        "2. Display the image.\n",
        "3. Print the original label.\n",
        "4. Print the predicted label.\n",
        "5. Repeat this process multiple times to identify which pictures are more challenging for the model."
      ]
    },
    {
      "cell_type": "markdown",
      "metadata": {
        "id": "cn8tvYOyqR5I"
      },
      "source": [
        "### **Exercise 8:** Report the overall accuracy of your classifier"
      ]
    },
    {
      "cell_type": "code",
      "execution_count": null,
      "metadata": {
        "id": "xo10iTsZq66K"
      },
      "outputs": [],
      "source": [
        "#you code here"
      ]
    },
    {
      "cell_type": "markdown",
      "metadata": {
        "id": "MODwrzh8rCti"
      },
      "source": [
        "## MNIST dataset (Exercise 9-12) - Optional, if you have extra time"
      ]
    },
    {
      "cell_type": "code",
      "execution_count": null,
      "metadata": {
        "colab": {
          "base_uri": "https://localhost:8080/"
        },
        "id": "7utkStuDrs96",
        "outputId": "03e72ac2-550c-473a-92c2-80834f946a21"
      },
      "outputs": [
        {
          "name": "stdout",
          "output_type": "stream",
          "text": [
            "Downloading data from https://storage.googleapis.com/tensorflow/tf-keras-datasets/mnist.npz\n",
            "\u001b[1m11490434/11490434\u001b[0m \u001b[32m━━━━━━━━━━━━━━━━━━━━\u001b[0m\u001b[37m\u001b[0m \u001b[1m0s\u001b[0m 0us/step\n"
          ]
        }
      ],
      "source": [
        "#import mnist dataset\n",
        "from keras.datasets import mnist\n",
        "(x_train, y_train), (x_test, y_test) = mnist.load_data()"
      ]
    },
    {
      "cell_type": "code",
      "execution_count": null,
      "metadata": {
        "colab": {
          "base_uri": "https://localhost:8080/"
        },
        "id": "EcCC08Sexfx0",
        "outputId": "5208dab7-f804-4058-bc11-9b19a715f1eb"
      },
      "outputs": [
        {
          "data": {
            "text/plain": [
              "(60000, 28, 28)"
            ]
          },
          "execution_count": 17,
          "metadata": {},
          "output_type": "execute_result"
        }
      ],
      "source": [
        "x_train.shape"
      ]
    },
    {
      "cell_type": "code",
      "execution_count": null,
      "metadata": {
        "colab": {
          "base_uri": "https://localhost:8080/",
          "height": 484
        },
        "id": "KMQ1_aSfxkZI",
        "outputId": "5a810ed9-bf92-4641-f663-3c36b91a7c65"
      },
      "outputs": [
        {
          "name": "stdout",
          "output_type": "stream",
          "text": [
            "Label:  8\n",
            "Image Shape:  (28, 28)\n"
          ]
        },
        {
          "data": {
            "text/plain": [
              "<matplotlib.colorbar.Colorbar at 0x7c7c40461390>"
            ]
          },
          "execution_count": 28,
          "metadata": {},
          "output_type": "execute_result"
        },
        {
          "data": {
            "image/png": "[encoded data removed]",
            "text/plain": [
              "<Figure size 640x480 with 2 Axes>"
            ]
          },
          "metadata": {},
          "output_type": "display_data"
        }
      ],
      "source": [
        "#Note: Run this cell multiple times\n",
        "index = np.random.randint(0, x_train.shape[0])\n",
        "print(\"Label: \", y_train[index])\n",
        "print(\"Image Shape: \", x_train[index].shape)\n",
        "plt.imshow(x_train[index], cmap='gray')\n",
        "plt.colorbar()"
      ]
    },
    {
      "cell_type": "markdown",
      "metadata": {
        "id": "FbfT3xU5Qz73"
      },
      "source": [
        "### **Excercise 9:** What is the difference between a black-and-white image and a color image in terms of numerical representation?\n",
        "\n",
        "### Hint: check the number of channels in the two types of images."
      ]
    },
    {
      "cell_type": "markdown",
      "metadata": {
        "id": "vPdYZ_xmRPgF"
      },
      "source": [
        "your answer here:"
      ]
    },
    {
      "cell_type": "markdown",
      "metadata": {
        "id": "yLGuNDA_OmlI"
      },
      "source": [
        "### **Exercise 10:** Select one data sample and flatten it. What is the size of the flattened image and why?"
      ]
    },
    {
      "cell_type": "code",
      "execution_count": null,
      "metadata": {
        "id": "-3Qn0NusO_O1"
      },
      "outputs": [],
      "source": [
        "## your code here"
      ]
    },
    {
      "cell_type": "markdown",
      "metadata": {
        "id": "q-5Chwg8PXEt"
      },
      "source": [
        "### **Excercise 11:** Flatten the images in Train and Test Datasets so that each image is a 1D array"
      ]
    },
    {
      "cell_type": "code",
      "execution_count": null,
      "metadata": {
        "id": "dZqqdh6IOvHz"
      },
      "outputs": [],
      "source": [
        "##your code here"
      ]
    },
    {
      "cell_type": "markdown",
      "metadata": {
        "id": "ndiBLTzNLa4I"
      },
      "source": [
        "### **Excercise 12:** Implement Logistic Regression on MNIST dataset using scikit-learn. What is the accuracy of your model?"
      ]
    },
    {
      "cell_type": "code",
      "execution_count": null,
      "metadata": {
        "id": "iTpS67ACLa4I"
      },
      "outputs": [],
      "source": [
        "#your code here"
      ]
    }
  ],
  "metadata": {
    "colab": {
      "provenance": [],
      "toc_visible": true
    },
    "kernelspec": {
      "display_name": "Python 3",
      "name": "python3"
    },
    "language_info": {
      "name": "python",
      "version": "3.13.1"
    }
  },
  "nbformat": 4,
  "nbformat_minor": 0
}