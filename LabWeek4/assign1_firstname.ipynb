{
 "cells": [
  {
   "cell_type": "markdown",
   "id": "825c1f56",
   "metadata": {},
   "source": [
    "# Assignment 1 - COMP3132 - Winter 2025"
   ]
  },
  {
   "cell_type": "markdown",
   "id": "202093d1",
   "metadata": {},
   "source": [
    "\n",
    "## Introduction\n",
    "\n",
    "Fashion MNIST is an alternative to MNIST. It is another default dataset that we can access through Keras.\n",
    "\n",
    "Fashion MNIST is a dataset of 60,000 28x28 grayscale images of 10 fashion categories, along with a test set of 10,000 images. This dataset can be used as a drop-in replacement for MNIST.\n",
    "\n",
    "The class labels are:\n",
    "\n",
    "0. T-shirt/top  \n",
    "1. Trouser  \n",
    "2. Pullover  \n",
    "3. Dress  \n",
    "4. Coat  \n",
    "5. Sandal  \n",
    "6. Shirt  \n",
    "7. Sneaker  \n",
    "8. Bag  \n",
    "9. Ankle boot  \n"
   ]
  },
  {
   "cell_type": "code",
   "execution_count": null,
   "id": "c8f669b8",
   "metadata": {},
   "outputs": [],
   "source": [
    "\n",
    "# Question 1: Importing and Loading the Dataset\n",
    "from keras.datasets import fashion_mnist\n",
    "\n",
    "# Load the dataset\n",
    "(train_images, train_labels), (test_images, test_labels) = fashion_mnist.load_data()\n",
    "\n",
    "# Displaying dimensions\n",
    "print(\"train_images shape:\", train_images.shape)\n",
    "print(\"train_labels shape:\", train_labels.shape)\n",
    "print(\"test_images shape:\", test_images.shape)\n",
    "print(\"test_labels shape:\", test_labels.shape)\n"
   ]
  },
  {
   "cell_type": "code",
   "execution_count": null,
   "id": "87c0ea27",
   "metadata": {},
   "outputs": [],
   "source": [
    "\n",
    "# Question 2: Length of train_labels and test_labels\n",
    "print(\"Length of train_labels:\", len(train_labels))\n",
    "print(\"Length of test_labels:\", len(test_labels))\n"
   ]
  },
  {
   "cell_type": "code",
   "execution_count": null,
   "id": "11163191",
   "metadata": {},
   "outputs": [],
   "source": [
    "\n",
    "# Question 3: Displaying some labels\n",
    "print(\"First 10 train labels:\", train_labels[:10])\n",
    "print(\"First 10 test labels:\", test_labels[:10])\n"
   ]
  },
  {
   "cell_type": "code",
   "execution_count": null,
   "id": "e69b8247",
   "metadata": {},
   "outputs": [],
   "source": [
    "\n",
    "# Question 4: Digital content of image index 5\n",
    "print(\"Digital content of image index 5 in training dataset:\")\n",
    "print(train_images[5])\n"
   ]
  },
  {
   "cell_type": "code",
   "execution_count": null,
   "id": "7ad3cf7e",
   "metadata": {},
   "outputs": [],
   "source": [
    "\n",
    "# Question 5: Plotting image index 5\n",
    "import matplotlib.pyplot as plt\n",
    "\n",
    "plt.imshow(train_images[5], cmap='gray')\n",
    "plt.title(f\"Label: {train_labels[5]}\")\n",
    "plt.colorbar()\n",
    "plt.show()\n"
   ]
  },
  {
   "cell_type": "code",
   "execution_count": null,
   "id": "888226dd",
   "metadata": {},
   "outputs": [],
   "source": [
    "\n",
    "# Question 6: Checking label of image index 5\n",
    "label_5 = train_labels[5]\n",
    "labels_dict = {\n",
    "    0: \"T-shirt/top\", 1: \"Trouser\", 2: \"Pullover\", 3: \"Dress\", 4: \"Coat\",\n",
    "    5: \"Sandal\", 6: \"Shirt\", 7: \"Sneaker\", 8: \"Bag\", 9: \"Ankle boot\"\n",
    "}\n",
    "print(f\"Label at index 5: {label_5} -> {labels_dict[label_5]}\")\n"
   ]
  },
  {
   "cell_type": "code",
   "execution_count": null,
   "id": "fdba75f2",
   "metadata": {},
   "outputs": [],
   "source": [
    "\n",
    "# Question 7: Digital content of image index 500 in testing dataset\n",
    "print(\"Digital content of image index 500 in testing dataset:\")\n",
    "print(test_images[500])\n"
   ]
  },
  {
   "cell_type": "code",
   "execution_count": null,
   "id": "78f2346e",
   "metadata": {},
   "outputs": [],
   "source": [
    "\n",
    "# Question 8: Plotting image index 500\n",
    "plt.imshow(test_images[500], cmap='gray')\n",
    "plt.title(f\"Label: {test_labels[500]}\")\n",
    "plt.colorbar()\n",
    "plt.show()\n"
   ]
  },
  {
   "cell_type": "code",
   "execution_count": null,
   "id": "493b608e",
   "metadata": {},
   "outputs": [],
   "source": [
    "\n",
    "# Question 9: Checking label of image index 500\n",
    "label_500 = test_labels[500]\n",
    "print(f\"Label at index 500: {label_500} -> {labels_dict[label_500]}\")\n"
   ]
  },
  {
   "cell_type": "code",
   "execution_count": null,
   "id": "c5277b2f",
   "metadata": {},
   "outputs": [],
   "source": [
    "\n",
    "# Question 10: Importing Keras models and layers\n",
    "from keras.models import Sequential\n",
    "from keras.layers import Dense, Flatten\n"
   ]
  },
  {
   "cell_type": "code",
   "execution_count": null,
   "id": "5866aff7",
   "metadata": {},
   "outputs": [],
   "source": [
    "\n",
    "# Question 11: Defining the Sequential Model\n",
    "myNetwork = Sequential()\n"
   ]
  },
  {
   "cell_type": "code",
   "execution_count": null,
   "id": "1b84020f",
   "metadata": {},
   "outputs": [],
   "source": [
    "\n",
    "# Question 12 & 13: Flattening and Normalization\n",
    "myNetwork.add(Flatten(input_shape=(28,28)))\n",
    "train_images = train_images / 255.0\n",
    "test_images = test_images / 255.0\n"
   ]
  },
  {
   "cell_type": "code",
   "execution_count": null,
   "id": "b1037b03",
   "metadata": {},
   "outputs": [],
   "source": [
    "\n",
    "# Question 14: Adding a hidden layer with 512 neurons and ReLU activation\n",
    "myNetwork.add(Dense(512, activation='relu'))\n"
   ]
  },
  {
   "cell_type": "code",
   "execution_count": null,
   "id": "71db6ffc",
   "metadata": {},
   "outputs": [],
   "source": [
    "\n",
    "# Question 15: Adding another hidden layer with 128 neurons and ReLU activation\n",
    "myNetwork.add(Dense(128, activation='relu'))\n"
   ]
  },
  {
   "cell_type": "code",
   "execution_count": null,
   "id": "5f270b43",
   "metadata": {},
   "outputs": [],
   "source": [
    "\n",
    "# Question 16: Adding the output layer with 10 neurons and softmax activation\n",
    "myNetwork.add(Dense(10, activation='softmax'))\n"
   ]
  },
  {
   "cell_type": "markdown",
   "id": "48f5a60f",
   "metadata": {},
   "source": [
    "\n",
    "### Why Softmax?\n",
    "\n",
    "Softmax is used in the output layer because it converts raw scores into probabilities, ensuring they sum up to 1. This makes it ideal for multi-class classification.\n"
   ]
  },
  {
   "cell_type": "code",
   "execution_count": null,
   "id": "2223f200",
   "metadata": {},
   "outputs": [],
   "source": [
    "\n",
    "# Question 17a: Compiling the model with Option A\n",
    "myNetwork.compile(optimizer='adam',\n",
    "                  loss='sparse_categorical_crossentropy',\n",
    "                  metrics=['accuracy'])\n"
   ]
  },
  {
   "cell_type": "code",
   "execution_count": null,
   "id": "4c6a3dec",
   "metadata": {},
   "outputs": [],
   "source": [
    "\n",
    "# Question 17b: Compiling the model with Option B\n",
    "myNetwork.compile(optimizer='rmsprop',\n",
    "                  loss='categorical_crossentropy',\n",
    "                  metrics=['accuracy'])\n"
   ]
  },
  {
   "cell_type": "code",
   "execution_count": null,
   "id": "ebc06ec3",
   "metadata": {},
   "outputs": [],
   "source": [
    "\n",
    "# Question 18: Training the model with 10 epochs\n",
    "history = myNetwork.fit(train_images, train_labels, epochs=10, validation_data=(test_images, test_labels))\n"
   ]
  },
  {
   "cell_type": "code",
   "execution_count": null,
   "id": "cca02f96",
   "metadata": {},
   "outputs": [],
   "source": [
    "\n",
    "# Question 21: Evaluating the model on test data\n",
    "test_loss, test_acc = myNetwork.evaluate(test_images, test_labels)\n",
    "print(f\"Test Accuracy: {test_acc}, Test Loss: {test_loss}\")\n"
   ]
  }
 ],
 "metadata": {},
 "nbformat": 4,
 "nbformat_minor": 5
}
